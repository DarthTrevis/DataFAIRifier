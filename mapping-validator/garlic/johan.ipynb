{
 "cells": [
  {
   "cell_type": "markdown",
   "metadata": {},
   "source": [
    "# SPARQL queries & tests"
   ]
  },
  {
   "cell_type": "code",
   "execution_count": 2,
   "metadata": {},
   "outputs": [
    {
     "data": {
      "application/vnd.jupyter.widget-view+json": {
       "model_id": "90d45deae01b4937b56f184f74121734",
       "version_major": 2,
       "version_minor": 0
      },
      "text/plain": [
       "VkJveChjaGlsZHJlbj0oSEJveChjaGlsZHJlbj0oVGV4dGFyZWEodmFsdWU9dSdTRUxFQ1QgaWQsIGdlbmRlciwgZGlhZ25vc2lzLCBkb3NlX3BsYW5uZWQsIG1sZCwgZDk1IEZST00gZXhwb3LigKY=\n"
      ]
     },
     "metadata": {},
     "output_type": "display_data"
    },
    {
     "name": "stdout",
     "output_type": "stream",
     "text": [
      "<SPARQLWrapper.Wrapper.QueryResult object at 0x7f47cc1a23d0>\n",
      "<SPARQLWrapper.Wrapper.QueryResult object at 0x7f47cc1a2550>\n",
      "<SPARQLWrapper.Wrapper.QueryResult object at 0x7f47cc1a2f50>\n"
     ]
    }
   ],
   "source": [
    "from r2rmlQueryEditor import R2RMLQueryEditor\n",
    "import ipywidgets as widgets\n",
    "\n",
    "r2rmlEditor = R2RMLQueryEditor(\"http://sparql.tst.cancerdata.org/repositories/r2rml\")\n",
    "widgets.VBox(r2rmlEditor.runInterface())"
   ]
  },
  {
   "cell_type": "code",
   "execution_count": null,
   "metadata": {},
   "outputs": [],
   "source": []
  }
 ],
 "metadata": {
  "kernelspec": {
   "display_name": "Python 2",
   "language": "python",
   "name": "python2"
  },
  "language_info": {
   "codemirror_mode": {
    "name": "ipython",
    "version": 2
   },
   "file_extension": ".py",
   "mimetype": "text/x-python",
   "name": "python",
   "nbconvert_exporter": "python",
   "pygments_lexer": "ipython2",
   "version": "2.7.14"
  }
 },
 "nbformat": 4,
 "nbformat_minor": 2
}
