{
 "cells": [
  {
   "cell_type": "markdown",
   "metadata": {},
   "source": [
    "# SPARQL queries & tests"
   ]
  },
  {
   "cell_type": "code",
   "execution_count": 7,
   "metadata": {},
   "outputs": [],
   "source": [
    "from SPARQLWrapper import SPARQLWrapper, JSON\n",
    "r2rmlRepo = \"http://sparql.tst.cancerdata.org/repositories/r2rml\"\n",
    "\n",
    "def runQuery(endpointUrl, query):\n",
    "    sparql = SPARQLWrapper(endpointUrl)\n",
    "    sparql.setQuery(query)\n",
    "    sparql.setReturnFormat(JSON)\n",
    "    return sparql.query().convert()\n",
    "\n",
    "\n",
    "results = runQuery(r2rmlRepo, \n",
    "    \"\"\"\n",
    "    SELECT ?queryId ?query ?definition\n",
    "    WHERE {\n",
    "        ?queryId <http://www.w3.org/ns/r2rml#sqlQuery> ?query.\n",
    "        OPTIONAL { ?queryId <http://www.w3.org/2004/02/skos/core#defintition> ?definition }\n",
    "    }\n",
    "    \"\"\")\n"
   ]
  },
  {
   "cell_type": "code",
   "execution_count": 43,
   "metadata": {},
   "outputs": [
    {
     "data": {
      "application/vnd.jupyter.widget-view+json": {
       "model_id": "8394f485ce174f5cb994985362a8beb9",
       "version_major": 2,
       "version_minor": 0
      },
      "text/plain": [
       "VkJveChjaGlsZHJlbj0oSEJveChjaGlsZHJlbj0oVGV4dGFyZWEodmFsdWU9dSdTRUxFQ1QgaWQsIGdlbmRlciwgZGlhZ25vc2lzLCBkb3NlX3BsYW5uZWQsIG1sZCBkOTVcclxuICAgICAgICDigKY=\n"
      ]
     },
     "metadata": {},
     "output_type": "display_data"
    }
   ],
   "source": [
    "import ipywidgets as widgets\n",
    "myWidgets = [ ]\n",
    "\n",
    "def save_clicked(b):\n",
    "    print(\"test\")\n",
    "\n",
    "for result in results[\"results\"][\"bindings\"]:\n",
    "    myTextBox = widgets.Textarea(\n",
    "                    value=result[\"query\"]['value'],\n",
    "                    placeholder=result[\"queryId\"]['value'],\n",
    "                    disabled=False,\n",
    "                    rows=10,\n",
    "                )\n",
    "    myDescription = widgets.HTML(value=(\"<p>\" + result[\"definition\"]['value'] + \"</p>\"))\n",
    "    myButton = widgets.Button(\n",
    "                    description='Save',\n",
    "                    disabled=False,\n",
    "                    icon='check'\n",
    "                )\n",
    "    myButton.on_click(save_clicked)\n",
    "    \n",
    "    myWidgets.append(\n",
    "        widgets.HBox([\n",
    "            myTextBox,\n",
    "            widgets.VBox([\n",
    "                    myDescription,\n",
    "                    myButton\n",
    "            ])\n",
    "        ])\n",
    "    )\n",
    "widgets.VBox(myWidgets)"
   ]
  },
  {
   "cell_type": "code",
   "execution_count": null,
   "metadata": {},
   "outputs": [],
   "source": []
  }
 ],
 "metadata": {
  "kernelspec": {
   "display_name": "Python 2",
   "language": "python",
   "name": "python2"
  },
  "language_info": {
   "codemirror_mode": {
    "name": "ipython",
    "version": 2
   },
   "file_extension": ".py",
   "mimetype": "text/x-python",
   "name": "python",
   "nbconvert_exporter": "python",
   "pygments_lexer": "ipython2",
   "version": "2.7.14"
  }
 },
 "nbformat": 4,
 "nbformat_minor": 2
}
