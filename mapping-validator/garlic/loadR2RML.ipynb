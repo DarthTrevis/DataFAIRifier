{
 "cells": [
  {
   "cell_type": "markdown",
   "metadata": {},
   "source": [
    "# Import Mapping"
   ]
  },
  {
   "cell_type": "code",
   "execution_count": 1,
   "metadata": {},
   "outputs": [
    {
     "data": {
      "application/vnd.jupyter.widget-view+json": {
       "model_id": "0a91d16193094f76bdc9128f5fa38dfd",
       "version_major": 2,
       "version_minor": 0
      },
      "text/plain": [
       "VkJveChjaGlsZHJlbj0oVGV4dCh2YWx1ZT11J21hcHBpbmcudHRsJywgZGVzY3JpcHRpb249dSdVUkwgb2YgbWFwcGluZyBmaWxlIGxvY2F0aW9uOicsIHN0eWxlPURlc2NyaXB0aW9uU3R5bGXigKY=\n"
      ]
     },
     "metadata": {},
     "output_type": "display_data"
    }
   ],
   "source": [
    "import ipywidgets as widgets\n",
    "mappingBox = widgets.Text(value=\"mapping.ttl\", description=\"URL of mapping file location:\", style={\"description_width\": \"initial\"})\n",
    "rdfEndpointBox = widgets.Text(value=\"http://graphdb:7200/repositories/r2rml\", description=\"URL of RDF endpoint:\", style={\"description_width\": \"initial\"})\n",
    "widgets.VBox([mappingBox, rdfEndpointBox])"
   ]
  },
  {
   "cell_type": "markdown",
   "metadata": {},
   "source": [
    "## Insert mapping\n",
    "Execute the code below to insert the default mapping"
   ]
  },
  {
   "cell_type": "code",
   "execution_count": 2,
   "metadata": {},
   "outputs": [
    {
     "name": "stderr",
     "output_type": "stream",
     "text": [
      "INFO:rdflib:RDFLib Version: 4.2.1\n"
     ]
    },
    {
     "name": "stdout",
     "output_type": "stream",
     "text": [
      "Mapping succesfully uploaded\n"
     ]
    }
   ],
   "source": [
    "from SPARQLWrapper import SPARQLWrapper, JSON\n",
    "import requests\n",
    "\n",
    "# drop all mappings\n",
    "endpoint = SPARQLWrapper(rdfEndpointBox.value + \"/statements\")\n",
    "endpoint.setQuery(\"DROP ALL;\")\n",
    "endpoint.method = \"POST\"\n",
    "endpoint.query()\n",
    "\n",
    "# Read RDF mapping file\n",
    "from rdflib import Graph, URIRef, Literal\n",
    "g = Graph()\n",
    "g.parse(mappingBox.value, format=\"n3\")\n",
    "rdfString = g.serialize(format='nt')\n",
    "\n",
    "# Create insert query\n",
    "insertQuery = \"INSERT { %s } WHERE { }\" % rdfString\n",
    "\n",
    "# Execute insert query\n",
    "endpoint = SPARQLWrapper(rdfEndpointBox.value + \"/statements\")\n",
    "endpoint.setQuery(insertQuery)\n",
    "endpoint.method = \"POST\"\n",
    "try:\n",
    "    endpoint.query()\n",
    "    print(\"Mapping succesfully uploaded\")\n",
    "except:\n",
    "    print(\"Something went wrong during upload.\")"
   ]
  },
  {
   "cell_type": "code",
   "execution_count": null,
   "metadata": {},
   "outputs": [],
   "source": []
  }
 ],
 "metadata": {
  "kernelspec": {
   "display_name": "Python 2",
   "language": "python",
   "name": "python2"
  },
  "language_info": {
   "codemirror_mode": {
    "name": "ipython",
    "version": 2
   },
   "file_extension": ".py",
   "mimetype": "text/x-python",
   "name": "python",
   "nbconvert_exporter": "python",
   "pygments_lexer": "ipython2",
   "version": "2.7.14"
  }
 },
 "nbformat": 4,
 "nbformat_minor": 2
}
