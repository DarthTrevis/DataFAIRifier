{
 "cells": [
  {
   "cell_type": "markdown",
   "metadata": {},
   "source": [
    "# Import Mapping"
   ]
  },
  {
   "cell_type": "code",
   "execution_count": null,
   "metadata": {},
   "outputs": [],
   "source": [
    "import ipywidgets as widgets\n",
    "mappingBox = widgets.Text(value=\"mapping.ttl\", description=\"URL of mapping file location:\", style={\"description_width\": \"initial\"})\n",
    "rdfEndpointBox = widgets.Text(value=\"http://graphdb:7200/repositories/r2rml\", description=\"URL of RDF endpoint:\", style={\"description_width\": \"initial\"})\n",
    "widgets.VBox([mappingBox, rdfEndpointBox])"
   ]
  },
  {
   "cell_type": "markdown",
   "metadata": {},
   "source": [
    "## Insert mapping\n",
    "Execute the code below to insert the default mapping"
   ]
  },
  {
   "cell_type": "code",
   "execution_count": null,
   "metadata": {},
   "outputs": [],
   "source": [
    "from R2RML_visualizer import R2RML_visualizer\n",
    "rmlVis = R2RML_visualizer()\n",
    "\n",
    "rmlVis.loadScript(mappingBox.value)\n",
    "rmlVis.plotGraph()"
   ]
  },
  {
   "cell_type": "code",
   "execution_count": null,
   "metadata": {},
   "outputs": [],
   "source": [
    "rmlVis.clearRemoteR2RMLStore(rdfEndpointBox.value)\n",
    "rmlVis.uploadR2RML(rdfEndpointBox.value)"
   ]
  },
  {
   "cell_type": "code",
   "execution_count": null,
   "metadata": {},
   "outputs": [],
   "source": []
  }
 ],
 "metadata": {
  "kernelspec": {
   "display_name": "Python 2",
   "language": "python",
   "name": "python2"
  },
  "language_info": {
   "codemirror_mode": {
    "name": "ipython",
    "version": 2
   },
   "file_extension": ".py",
   "mimetype": "text/x-python",
   "name": "python",
   "nbconvert_exporter": "python",
   "pygments_lexer": "ipython2",
   "version": "2.7.15"
  }
 },
 "nbformat": 4,
 "nbformat_minor": 2
}
