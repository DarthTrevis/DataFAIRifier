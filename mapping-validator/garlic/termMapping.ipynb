{
 "cells": [
  {
   "cell_type": "markdown",
   "metadata": {},
   "source": [
    "# Terminology mapping"
   ]
  },
  {
   "cell_type": "code",
   "execution_count": 1,
   "metadata": {
    "scrolled": true
   },
   "outputs": [
    {
     "name": "stderr",
     "output_type": "stream",
     "text": [
      "INFO:rdflib:RDFLib Version: 4.2.1\n"
     ]
    }
   ],
   "source": [
    "#initialize terminology mapping service\n",
    "from TermMappingService import TermMappingService\n",
    "import ipywidgets as widgets\n",
    "tms = TermMappingService(\"http://graphdb:7200/repositories/data\",\n",
    "                         \"https://raw.githubusercontent.com/RadiationOncologyOntology/ROO/master/owl/ROO.owl\")"
   ]
  },
  {
   "cell_type": "markdown",
   "metadata": {},
   "source": [
    "## Unmapped local terms"
   ]
  },
  {
   "cell_type": "code",
   "execution_count": 2,
   "metadata": {
    "scrolled": true
   },
   "outputs": [
    {
     "data": {
      "application/vnd.jupyter.widget-view+json": {
       "model_id": "5e6c5c458c764789befe58ab47206aae",
       "version_major": 2,
       "version_minor": 0
      },
      "text/plain": [
       "VkJveChjaGlsZHJlbj0oSEJveChjaGlsZHJlbj0oVGV4dCh2YWx1ZT11JzEnLCBkZXNjcmlwdGlvbj11J1NleCcsIGRpc2FibGVkPVRydWUsIHN0eWxlPURlc2NyaXB0aW9uU3R5bGUoZGVzY3LigKY=\n"
      ]
     },
     "metadata": {},
     "output_type": "display_data"
    },
    {
     "name": "stdout",
     "output_type": "stream",
     "text": [
      "Mapping saved, please reload the page to see the effect.\n",
      "Mapping saved, please reload the page to see the effect.\n",
      "Mapping saved, please reload the page to see the effect.\n",
      "Mapping saved, please reload the page to see the effect.\n",
      "Mapping saved, please reload the page to see the effect.\n",
      "Mapping saved, please reload the page to see the effect.\n",
      "Mapping saved, please reload the page to see the effect.\n",
      "Mapping saved, please reload the page to see the effect.\n",
      "Mapping saved, please reload the page to see the effect.\n",
      "Mapping saved, please reload the page to see the effect.\n",
      "Mapping saved, please reload the page to see the effect.\n",
      "Mapping saved, please reload the page to see the effect.\n"
     ]
    }
   ],
   "source": [
    "widgets.VBox(tms.initInterface())"
   ]
  },
  {
   "cell_type": "markdown",
   "metadata": {},
   "source": [
    "## Mapped local terms"
   ]
  },
  {
   "cell_type": "code",
   "execution_count": 6,
   "metadata": {},
   "outputs": [
    {
     "data": {
      "application/vnd.jupyter.widget-view+json": {
       "model_id": "c35b46cb288243aea36226941a340a50",
       "version_major": 2,
       "version_minor": 0
      },
      "text/plain": [
       "VkJveChjaGlsZHJlbj0oSEJveChjaGlsZHJlbj0oVGV4dCh2YWx1ZT11JzInLCBkZXNjcmlwdGlvbj11J0dlbmVyaWMgUHJpbWFyeSBUdW1vciBUTk0gRmluZGluZzonLCBkaXNhYmxlZD1UcnXigKY=\n"
      ]
     },
     "metadata": {},
     "output_type": "display_data"
    }
   ],
   "source": [
    "widgets.VBox(tms.initMappedValues())"
   ]
  },
  {
   "cell_type": "code",
   "execution_count": null,
   "metadata": {},
   "outputs": [],
   "source": []
  }
 ],
 "metadata": {
  "kernelspec": {
   "display_name": "Python 2",
   "language": "python",
   "name": "python2"
  },
  "language_info": {
   "codemirror_mode": {
    "name": "ipython",
    "version": 2
   },
   "file_extension": ".py",
   "mimetype": "text/x-python",
   "name": "python",
   "nbconvert_exporter": "python",
   "pygments_lexer": "ipython2",
   "version": "2.7.14"
  }
 },
 "nbformat": 4,
 "nbformat_minor": 2
}
