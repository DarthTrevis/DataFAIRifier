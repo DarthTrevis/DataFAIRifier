{
 "cells": [
  {
   "cell_type": "markdown",
   "metadata": {},
   "source": [
    "# Terminology mapping"
   ]
  },
  {
   "cell_type": "code",
   "execution_count": null,
   "metadata": {
    "scrolled": true
   },
   "outputs": [],
   "source": [
    "from SPARQLWrapper import SPARQLWrapper, JSON\n",
    "def runQuery(endpointUrl, query):\n",
    "    sparql = SPARQLWrapper(endpointUrl)\n",
    "    sparql.setQuery(query)\n",
    "    sparql.setReturnFormat(JSON)\n",
    "    return sparql.query().convert()"
   ]
  },
  {
   "cell_type": "code",
   "execution_count": null,
   "metadata": {
    "scrolled": true
   },
   "outputs": [],
   "source": [
    "repository = \"http://sparql_open:7200/repositories/data\"\n",
    "\n",
    "queryLocalTerms = \"\"\"PREFIX roo: <http://www.cancerdata.org/roo/>\n",
    "PREFIX rdf: <http://www.w3.org/1999/02/22-rdf-syntax-ns#>\n",
    "PREFIX owl: <http://www.w3.org/2002/07/owl#>\n",
    "SELECT DISTINCT ?type ?value\n",
    "from <http://data.local/rdf>\n",
    "WHERE {\n",
    "\t?obj rdf:type ?type.\n",
    "    ?obj roo:local_value ?value .\n",
    "    FILTER(?type NOT IN (owl:NamedIndividual)).\n",
    "}\n",
    "ORDER BY ?type\"\"\"\n",
    "\n",
    "# get local values\n",
    "localValues = runQuery(repository, queryLocalTerms)\n",
    "for localValue in localValues[\"results\"][\"bindings\"]:\n",
    "    print(localValue[\"type\"][\"value\"] + \": \" + localValue[\"value\"][\"value\"])"
   ]
  },
  {
   "cell_type": "code",
   "execution_count": null,
   "metadata": {
    "scrolled": true
   },
   "outputs": [],
   "source": [
    "import rdflib\n",
    "g = rdflib.Graph()\n",
    "g.load(\"https://raw.githubusercontent.com/RadiationOncologyOntology/ROO/master/owl/ROO.owl\")"
   ]
  },
  {
   "cell_type": "code",
   "execution_count": null,
   "metadata": {
    "scrolled": true
   },
   "outputs": [],
   "source": [
    "for localValue in localValues[\"results\"][\"bindings\"]:\n",
    "    myQuery = \"SELECT ?label WHERE { <%s> rdfs:label ?label. }\" % (localValue[\"type\"][\"value\"])\n",
    "    for row in g.query(myQuery):\n",
    "        print(row.label + \": \" + localValue[\"value\"][\"value\"])"
   ]
  },
  {
   "cell_type": "code",
   "execution_count": null,
   "metadata": {
    "scrolled": true
   },
   "outputs": [],
   "source": [
    "import ipywidgets as widgets\n",
    "import collections\n",
    "myWidgets = [ ]\n",
    "myButtonList = dict()\n",
    "\n",
    "def save_reasoning(localValue, superClass, term):\n",
    "    query = \"\"\"\n",
    "        PREFIX owl: <http://www.w3.org/2002/07/owl#>\n",
    "        PREFIX rdf: <http://www.w3.org/1999/02/22-rdf-syntax-ns#>\n",
    "        PREFIX roo: <http://www.cancerdata.org/roo/>\n",
    "        PREFIX xsd: <http://www.w3.org/2001/XMLSchema#>\n",
    "        \n",
    "        INSERT {\n",
    "        GRAPH <http://data.local/mapping> {\n",
    "            <%s> owl:equivalentClass [\n",
    "                rdf:type owl:Class;\n",
    "                owl:intersectionOf [\n",
    "                    rdf:first <%s>;\n",
    "                    rdf:rest [\n",
    "                        rdf:first [\n",
    "                            rdf:type owl:Class;\n",
    "                            owl:unionOf [\n",
    "                                rdf:first [\n",
    "                                    rdf:type owl:Restriction;\n",
    "                                    owl:hasValue \"%s\"^^xsd:string;\n",
    "                                    owl:onProperty roo:local_value;\n",
    "                                ];\n",
    "                                rdf:rest rdf:nil;\n",
    "                            ]\n",
    "                        ];\n",
    "                        rdf:rest rdf:nil;\n",
    "                    ]\n",
    "                ]\n",
    "            ].\n",
    "        } } WHERE { }\n",
    "    \"\"\" % (term, superClass, localValue)\n",
    "    print(query)\n",
    "    \n",
    "    sparql = SPARQLWrapper(repository + \"/statements\")\n",
    "    sparql.setQuery(query)\n",
    "    sparql.method = \"POST\"\n",
    "\n",
    "    try:\n",
    "        sparql.query()\n",
    "        print(\"Mapping saved.\")\n",
    "    except:\n",
    "        print(\"Something went wrong during the update. Please check if the RDF repository is available.\")\n",
    "\n",
    "def save_action(b):\n",
    "    myButtonObjects = myButtonList[b]\n",
    "    \n",
    "    #loop over all entries for this dropdown, to find the correct ID\n",
    "    uri = None\n",
    "    label = None\n",
    "    for entry in myButtonObjects[\"classList\"]:\n",
    "        if(entry[\"id\"] == myButtonObjects[\"dropdown\"].value):\n",
    "            uri = entry[\"uri\"]\n",
    "            label = entry[\"label\"]\n",
    "    \n",
    "    if (uri is not None) & (label is not None):\n",
    "        save_reasoning(myButtonObjects[\"localValue\"], myButtonObjects[\"superClass\"], uri)\n",
    "\n",
    "#loop over all found local values\n",
    "for localValue in localValues[\"results\"][\"bindings\"]:\n",
    "    superClass = localValue[\"type\"][\"value\"]\n",
    "    localValue = localValue[\"value\"][\"value\"]\n",
    "    \n",
    "    # check the rdfs:label for all found superclasses\n",
    "    myQuery = \"SELECT ?label WHERE { <%s> rdfs:label ?label. }\" % superClass\n",
    "    superClassName = \"\"\n",
    "    for row in g.query(myQuery):\n",
    "        superClassName = row.label\n",
    "    \n",
    "    # create textfield with the local value as text, superclass label as description\n",
    "    valueWidget = widgets.Text(value=localValue, disabled=True, description=superClassName, style={\"description_width\": \"initial\"})\n",
    "    \n",
    "    # lookup subclasses (possible matching candidates)\n",
    "    myQuery = \"\"\"\n",
    "        SELECT ?subClass ?label \n",
    "        WHERE { \n",
    "            ?subClass rdfs:subClassOf* <%s>.\n",
    "            ?subClass rdfs:label ?label.\n",
    "            \n",
    "            FILTER (?subClass != <%s>).\n",
    "        }\n",
    "        ORDER BY ?label\"\"\" % (superClass, superClass)\n",
    "    queryResult = g.query(myQuery)\n",
    "    \n",
    "    # make list for dropdown\n",
    "    classList = list()\n",
    "    i=0\n",
    "    for subClassResultRow in queryResult:\n",
    "        classList.append({\"uri\": str(subClassResultRow.subClass), \"label\": str(subClassResultRow.label), \"id\": i})\n",
    "        i = i+1\n",
    "    \n",
    "    dropdownValues = dict()\n",
    "    selectedId = 0\n",
    "    for myClass in classList:\n",
    "        dropdownValues[myClass[\"label\"]] = myClass[\"id\"]\n",
    "        ##add here to set the value\n",
    "\n",
    "    dropdownValues = collections.OrderedDict(sorted(dropdownValues.items()))\n",
    "    \n",
    "    # create dropdown\n",
    "    standardValWidget = widgets.Dropdown(\n",
    "        options=dropdownValues,\n",
    "        value=selectedId\n",
    "    )\n",
    "    \n",
    "    # create save button\n",
    "    saveWidget = widgets.Button(\n",
    "        description=\"Save\",\n",
    "        icon='save',\n",
    "    )\n",
    "    \n",
    "    myButtonList[saveWidget] = {\"superClass\": superClass, \"localValue\": localValue, \"dropdown\": standardValWidget, \"classList\": classList}\n",
    "    saveWidget.on_click(save_action)\n",
    "    \n",
    "    #align all three widget objects\n",
    "    myWidgets.append(widgets.HBox([valueWidget, standardValWidget, saveWidget]))\n",
    "\n",
    "#align all entries\n",
    "widgets.VBox(myWidgets)"
   ]
  },
  {
   "cell_type": "code",
   "execution_count": null,
   "metadata": {},
   "outputs": [],
   "source": []
  }
 ],
 "metadata": {
  "kernelspec": {
   "display_name": "Python 2",
   "language": "python",
   "name": "python2"
  },
  "language_info": {
   "codemirror_mode": {
    "name": "ipython",
    "version": 2
   },
   "file_extension": ".py",
   "mimetype": "text/x-python",
   "name": "python",
   "nbconvert_exporter": "python",
   "pygments_lexer": "ipython2",
   "version": "2.7.14"
  }
 },
 "nbformat": 4,
 "nbformat_minor": 2
}
