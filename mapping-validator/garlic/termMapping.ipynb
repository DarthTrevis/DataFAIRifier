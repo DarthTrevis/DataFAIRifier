{
 "cells": [
  {
   "cell_type": "markdown",
   "metadata": {},
   "source": [
    "# Terminology mapping"
   ]
  },
  {
   "cell_type": "code",
   "execution_count": 1,
   "metadata": {
    "scrolled": true
   },
   "outputs": [],
   "source": [
    "from SPARQLWrapper import SPARQLWrapper, JSON\n",
    "def runQuery(endpointUrl, query):\n",
    "    sparql = SPARQLWrapper(endpointUrl)\n",
    "    sparql.setQuery(query)\n",
    "    sparql.setReturnFormat(JSON)\n",
    "    return sparql.query().convert()"
   ]
  },
  {
   "cell_type": "code",
   "execution_count": 3,
   "metadata": {
    "scrolled": true
   },
   "outputs": [
    {
     "name": "stdout",
     "output_type": "stream",
     "text": [
      "http://ncicb.nci.nih.gov/xml/owl/EVS/Thesaurus.owl#C28421: 0\n",
      "http://ncicb.nci.nih.gov/xml/owl/EVS/Thesaurus.owl#C28421: 1\n",
      "http://ncicb.nci.nih.gov/xml/owl/EVS/Thesaurus.owl#C48884: 2\n",
      "http://ncicb.nci.nih.gov/xml/owl/EVS/Thesaurus.owl#C48884: 1\n",
      "http://ncicb.nci.nih.gov/xml/owl/EVS/Thesaurus.owl#C48884: 0\n",
      "http://ncicb.nci.nih.gov/xml/owl/EVS/Thesaurus.owl#C48885: 4\n",
      "http://ncicb.nci.nih.gov/xml/owl/EVS/Thesaurus.owl#C48885: 2\n",
      "http://ncicb.nci.nih.gov/xml/owl/EVS/Thesaurus.owl#C48885: 3\n"
     ]
    }
   ],
   "source": [
    "repository = \"http://sparql_open:7200/repositories/data\"\n",
    "\n",
    "queryLocalTerms = \"\"\"PREFIX roo: <http://www.cancerdata.org/roo/>\n",
    "PREFIX rdf: <http://www.w3.org/1999/02/22-rdf-syntax-ns#>\n",
    "PREFIX owl: <http://www.w3.org/2002/07/owl#>\n",
    "SELECT DISTINCT ?type ?value\n",
    "from <http://data.local/rdf>\n",
    "WHERE {\n",
    "\t?obj rdf:type ?type.\n",
    "    ?obj roo:local_value ?value .\n",
    "    FILTER(?type NOT IN (owl:NamedIndividual)).\n",
    "}\n",
    "ORDER BY ?type\"\"\"\n",
    "\n",
    "# get local values\n",
    "localValues = runQuery(repository, queryLocalTerms)\n",
    "for localValue in localValues[\"results\"][\"bindings\"]:\n",
    "    print(localValue[\"type\"][\"value\"] + \": \" + localValue[\"value\"][\"value\"])"
   ]
  },
  {
   "cell_type": "code",
   "execution_count": 4,
   "metadata": {
    "scrolled": true
   },
   "outputs": [
    {
     "name": "stderr",
     "output_type": "stream",
     "text": [
      "INFO:rdflib:RDFLib Version: 4.2.1\n"
     ]
    }
   ],
   "source": [
    "import rdflib\n",
    "g = rdflib.Graph()\n",
    "g.load(\"https://raw.githubusercontent.com/RadiationOncologyOntology/ROO/master/owl/ROO.owl\")"
   ]
  },
  {
   "cell_type": "code",
   "execution_count": 22,
   "metadata": {
    "scrolled": true
   },
   "outputs": [
    {
     "name": "stdout",
     "output_type": "stream",
     "text": [
      "Sex: 0\n",
      "Sex: 1\n",
      "Generic Regional Lymph Nodes TNM Finding: 2\n",
      "Generic Regional Lymph Nodes TNM Finding: 1\n",
      "Generic Regional Lymph Nodes TNM Finding: 0\n",
      "Generic Primary Tumor TNM Finding: 4\n",
      "Generic Primary Tumor TNM Finding: 2\n",
      "Generic Primary Tumor TNM Finding: 3\n",
      "{'Three': 3, 'Two': 2, 'One': 1}\n"
     ]
    }
   ],
   "source": [
    "for localValue in localValues[\"results\"][\"bindings\"]:\n",
    "    myQuery = \"SELECT ?label WHERE { <%s> rdfs:label ?label. }\" % (localValue[\"type\"][\"value\"])\n",
    "    for row in g.query(myQuery):\n",
    "        print(row.label + \": \" + localValue[\"value\"][\"value\"])\n",
    "\n",
    "print({'One': 1, 'Two': 2, 'Three': 3})"
   ]
  },
  {
   "cell_type": "code",
   "execution_count": 38,
   "metadata": {},
   "outputs": [],
   "source": [
    "import ipywidgets as widgets\n",
    "myWidgets = [ ]\n",
    "\n",
    "for localValue in localValues[\"results\"][\"bindings\"]:\n",
    "    superClass = localValue[\"type\"][\"value\"]\n",
    "    localValue = localValue[\"value\"][\"value\"]\n",
    "    \n",
    "    myQuery = \"SELECT ?label WHERE { <%s> rdfs:label ?label. }\" % superClass\n",
    "    superClassName = \"\"\n",
    "    for row in g.query(myQuery):\n",
    "        superClassName = row.label\n",
    "    \n",
    "    nameWidget = widgets.HTML(value=(\"<p>%s</p>\" % superClassName))\n",
    "    valueWidget = widgets.Text(value=localValue, disabled=True)\n",
    "    \n",
    "    myQuery = \"\"\"\n",
    "        SELECT ?subClass ?label \n",
    "        WHERE { \n",
    "            ?subClass rdfs:subClassOf* <%s>.\n",
    "            ?subClass rdfs:label ?label.\n",
    "            \n",
    "            FILTER (?subClass != <%s>).\n",
    "        }\n",
    "        ORDER BY ?label\"\"\" % (superClass, superClass)\n",
    "    \n",
    "    queryResult = g.query(myQuery)\n",
    "    classList = list()\n",
    "    i=0\n",
    "    for subClassResultRow in queryResult:\n",
    "        classList.append({\"uri\": str(subClassResultRow.subClass), \"label\": str(subClassResultRow.label), \"id\": i})\n",
    "        i = i+1\n",
    "    \n",
    "    dropdownValues = dict()\n",
    "    for myClass in classList:\n",
    "        dropdownValues[myClass[\"label\"]] = myClass[\"id\"]\n",
    "    standardValWidget = widgets.Dropdown(\n",
    "        options=dropdownValues\n",
    "    )\n",
    "    \n",
    "    myWidgets.append(widgets.HBox([nameWidget, valueWidget, standardValWidget]))\n",
    "widgets.VBox(myWidgets)"
   ]
  }
 ],
 "metadata": {
  "kernelspec": {
   "display_name": "Python 2",
   "language": "python",
   "name": "python2"
  },
  "language_info": {
   "codemirror_mode": {
    "name": "ipython",
    "version": 2
   },
   "file_extension": ".py",
   "mimetype": "text/x-python",
   "name": "python",
   "nbconvert_exporter": "python",
   "pygments_lexer": "ipython2",
   "version": "2.7.14"
  }
 },
 "nbformat": 4,
 "nbformat_minor": 2
}
